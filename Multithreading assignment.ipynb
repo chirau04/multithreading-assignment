{
 "cells": [
  {
   "cell_type": "markdown",
   "id": "281166f2-7663-4a73-aea6-2b60d36b2c39",
   "metadata": {},
   "source": [
    "Multithreading in python involves running multiple threads(smaller units of a process) concurrently to improve program performance by executing taskks concurrently. it is used to efficiently utilize CPU resources, especially in scenarios with I/O-bound tasks. the threading module is commonly used in python to handle threads.  "
   ]
  },
  {
   "cell_type": "markdown",
   "id": "eca23dac-eb86-49b5-9fdc-e58e9bf043c4",
   "metadata": {},
   "source": [
    "The threading module in python is used for creating and managing threads. here are explanations for the mentioned functions:"
   ]
  },
  {
   "cell_type": "markdown",
   "id": "2ffee3c9-53de-45e4-a622-4832cf6a5006",
   "metadata": {},
   "source": [
    "1. ActiveCount(): this function is used to get the number of thread objects currently alive. it returns th number of thread objects that have beeen created and not yet terminated. "
   ]
  },
  {
   "cell_type": "markdown",
   "id": "4f1ff5f3-190c-434e-9485-fc1cb551d0fe",
   "metadata": {},
   "source": [
    "2. Currentthread(): this function returns the current thread object, corresponding to the caller's thread of control. "
   ]
  },
  {
   "cell_type": "markdown",
   "id": "635c9fb6-55b7-4bba-8844-151442f01be9",
   "metadata": {},
   "source": [
    "3. Enumerate(): This function returns a list of all thread objects currently alive. the list includes daemonic threads, dummy thread objects created by current_thread(), and the main thread. it is particularly useful for obtaining a list of all active threads for inspection or manipulation.  "
   ]
  },
  {
   "cell_type": "markdown",
   "id": "4c2a2078-bccf-4c58-849c-249403991dca",
   "metadata": {},
   "source": [
    "1. run(): this method represents the code to be executed by the thread. when a thread is created using the threading. Thread class,you can subclass it and override the run() method to define the code that will be run in the new thread."
   ]
  },
  {
   "cell_type": "markdown",
   "id": "e4a32a9d-3f93-421b-939f-1083e7d3d925",
   "metadata": {},
   "source": [
    "2. start(): This method is used to start a threads activity. it initiates the run() method in a separate thread of control its important to note that the run() method should not be called directly; instead, use start() to launch the thread. "
   ]
  },
  {
   "cell_type": "markdown",
   "id": "61e636bf-0943-4c5c-a800-24f272849791",
   "metadata": {},
   "source": [
    "3. join([timeout]): The join() method is used to wait for the thread to complete its execution. if the optional timeout arguments is specified, the join() method will block for at most that many seconds. "
   ]
  },
  {
   "cell_type": "markdown",
   "id": "b8a06e89-eef9-48bf-8e58-f723b3719f21",
   "metadata": {},
   "source": [
    "4. isAlive(): This method returns a boolean indicating whether the thread is alive or has completed its execution. a threads is considered alive if it has been started and has not yet terminated the isAlive() method is useful for checking the status of a thread before deciding to perform additional actions or wait for its completion.  "
   ]
  },
  {
   "cell_type": "code",
   "execution_count": 1,
   "id": "df00426a-d389-41bc-b025-5d703327b6ed",
   "metadata": {},
   "outputs": [],
   "source": [
    "import threading \n",
    "def print_squares(): \n",
    "    for i in range (1,6):\n",
    "        print(f\"square of {i}: {i**2}\")\n",
    "        \n",
    "def print_cubes():\n",
    "    for i in range (1,6):\n",
    "        print(f\"cube of {i}: {i**3}\")"
   ]
  },
  {
   "cell_type": "code",
   "execution_count": 2,
   "id": "3142c850-ecc7-4fe4-98aa-228c3cb56dd3",
   "metadata": {},
   "outputs": [],
   "source": [
    "thread_square = threading.Thread(target= print_squares)\n",
    "thread_cube = threading.Thread(target= print_cubes)"
   ]
  },
  {
   "cell_type": "code",
   "execution_count": 3,
   "id": "9f74335b-b6ba-4514-86e5-01443c1253ec",
   "metadata": {},
   "outputs": [
    {
     "name": "stdout",
     "output_type": "stream",
     "text": [
      "square of 1: 1\n",
      "square of 2: 4\n",
      "square of 3: 9\n",
      "square of 4: 16\n",
      "square of 5: 25\n",
      "cube of 1: 1\n",
      "cube of 2: 8\n",
      "cube of 3: 27\n",
      "cube of 4: 64\n",
      "cube of 5: 125\n"
     ]
    }
   ],
   "source": [
    "thread_square.start()\n",
    "thread_cube.start()"
   ]
  },
  {
   "cell_type": "code",
   "execution_count": 4,
   "id": "7e26c75d-c309-47c5-add6-63d973bf5222",
   "metadata": {},
   "outputs": [],
   "source": [
    "thread_square.join()\n",
    "thread_cube.join() "
   ]
  },
  {
   "cell_type": "code",
   "execution_count": 5,
   "id": "80b7f1c8-20fc-40df-b09b-9bc69db37cd9",
   "metadata": {},
   "outputs": [
    {
     "name": "stdout",
     "output_type": "stream",
     "text": [
      "both threads have finished.\n"
     ]
    }
   ],
   "source": [
    "print(\"both threads have finished.\")"
   ]
  },
  {
   "cell_type": "markdown",
   "id": "68234d73-586e-45dd-835e-ec6dc380fa0f",
   "metadata": {},
   "source": [
    "Advantages of multithreading:"
   ]
  },
  {
   "cell_type": "markdown",
   "id": "07f21375-4878-42b0-8a35-a0cdd100897a",
   "metadata": {},
   "source": [
    "1. improved performance:\n",
    "2. responsiveness:\n",
    "3. resource sharing:\n",
    "4. parallelism:\n",
    "5. simplified code structure:"
   ]
  },
  {
   "cell_type": "markdown",
   "id": "2a7df5ef-800e-41e0-bfcd-32bb0c607fb8",
   "metadata": {},
   "source": [
    "Disadvantages of multithreading:"
   ]
  },
  {
   "cell_type": "markdown",
   "id": "3fd4fb72-e9c5-4742-b378-becc051ff0ce",
   "metadata": {},
   "source": [
    "1. complexity:\n",
    "2. race conditions: \n",
    "3. deadlocks:\n",
    "4. difficulty in debugging:\n",
    "5. overhead: "
   ]
  },
  {
   "cell_type": "markdown",
   "id": "14b20c6a-ff66-4fa4-8b2a-46ccb9d64f57",
   "metadata": {},
   "source": [
    "Deadlocks: A deadlocks occurs in a multithreaded or multiprocess system when two or more threads or processes are unable to proceed beacuase each is waiting for the other to release a resource. in other words, a deadlock is a state where a set of processes are blocked because each process  is holding a resources and waiting for another resource acquired by some other process. the tour necessary conditions for a deadlock are: "
   ]
  },
  {
   "cell_type": "markdown",
   "id": "a0a7efd0-d1b8-4770-badb-2f8b16cb6c16",
   "metadata": {},
   "source": [
    "1. mutual exclusions:\n",
    "2. hold and wait:\n",
    "3. no preemption: \n",
    "4. circular wait:"
   ]
  },
  {
   "cell_type": "markdown",
   "id": "2c350363-a2ec-413c-839d-56c3cb4474b8",
   "metadata": {},
   "source": [
    "Race conditions: A race conditions occurs when the behaviour of a program depends on the relative timings of events, such as the order in which threads are scheduled to run. it arises when multiple threads access shared data concurrently, and at least one of them modifies the data. the outcome becomes unpredictable and depends on the interleaving of the threads execution. "
   ]
  },
  {
   "cell_type": "markdown",
   "id": "29a7f7ef-9159-4c44-af1e-6b4523e3df10",
   "metadata": {},
   "source": [
    "1. shared data:\n",
    "2. at least one write operations: \n",
    "3. non- atomic operations: "
   ]
  }
 ],
 "metadata": {
  "kernelspec": {
   "display_name": "Python 3 (ipykernel)",
   "language": "python",
   "name": "python3"
  },
  "language_info": {
   "codemirror_mode": {
    "name": "ipython",
    "version": 3
   },
   "file_extension": ".py",
   "mimetype": "text/x-python",
   "name": "python",
   "nbconvert_exporter": "python",
   "pygments_lexer": "ipython3",
   "version": "3.10.8"
  }
 },
 "nbformat": 4,
 "nbformat_minor": 5
}
